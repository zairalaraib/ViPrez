{
  "nbformat": 4,
  "nbformat_minor": 0,
  "metadata": {
    "colab": {
      "provenance": []
    },
    "kernelspec": {
      "name": "python3",
      "display_name": "Python 3"
    },
    "language_info": {
      "name": "python"
    }
  },
  "cells": [
    {
      "cell_type": "markdown",
      "source": [
        "# Welcome to ViPrez"
      ],
      "metadata": {
        "id": "BWsCuDkCxo5o"
      }
    },
    {
      "cell_type": "markdown",
      "source": [
        "## This notebook will convert a video to a power point presentation!"
      ],
      "metadata": {
        "id": "8XElYFPzxyRA"
      }
    },
    {
      "cell_type": "markdown",
      "source": [
        "### Import Libraries"
      ],
      "metadata": {
        "id": "w2RdVwa1yJ4t"
      }
    },
    {
      "cell_type": "code",
      "source": [
        "%pip install opencv-python python-pptx\n",
        "%pip install Pillow\n",
        "%pip install python-pptx\n",
        "%pip install moviepy\n",
        "%pip install nltk\n",
        "%pip install SpeechRecognition\n",
        "%pip install pydub\n"
      ],
      "metadata": {
        "id": "k4JmRFUjyR6O"
      },
      "execution_count": null,
      "outputs": []
    },
    {
      "cell_type": "code",
      "source": [
        "from moviepy.video.io.VideoFileClip import VideoFileClip\n",
        "from nltk.tokenize import sent_tokenize\n",
        "from nltk.corpus import stopwords\n",
        "from nltk.stem import PorterStemmer\n",
        "from nltk.probability import FreqDist"
      ],
      "metadata": {
        "id": "tqRol7BgyTyR"
      },
      "execution_count": null,
      "outputs": []
    },
    {
      "cell_type": "code",
      "source": [
        "# Load NLTK resources\n",
        "import nltk\n",
        "# punkt- unsupervised trainable model\n",
        "nltk.download('punkt')\n",
        "# stopwords- words that are so common they are basically ignored by typical tokenizers\n",
        "nltk.download('stopwords')"
      ],
      "metadata": {
        "id": "R8d4X774yuD4"
      },
      "execution_count": null,
      "outputs": []
    },
    {
      "cell_type": "markdown",
      "source": [
        "### Input your mp4 video path"
      ],
      "metadata": {
        "id": "9ehHbUN0yzNe"
      }
    },
    {
      "cell_type": "code",
      "source": [
        "# Enter your video here, i've used a sample video\n",
        "video_path = '/content/yourvideo.mp4'\n",
        "# VideoFileClip- loads the video\n",
        "video = VideoFileClip(video_path)"
      ],
      "metadata": {
        "id": "-ZCsC_N1yu-Y"
      },
      "execution_count": null,
      "outputs": []
    },
    {
      "cell_type": "markdown",
      "source": [
        "### Converts video to an audio"
      ],
      "metadata": {
        "id": "GTf0Qh01zYHd"
      }
    },
    {
      "cell_type": "code",
      "source": [
        "def convert_video_to_audio(video_path, audio_path):\n",
        "\n",
        "    # Get the audio portion of the video clip\n",
        "    audio_clip = video.audio\n",
        "\n",
        "    # Write the audio to an audio file\n",
        "    audio_clip.write_audiofile(audio_path)\n",
        "\n",
        "    # Close the audio and video clips\n",
        "    audio_clip.close()\n",
        "    video.close()\n"
      ],
      "metadata": {
        "id": "jldzkMQ_zdFm"
      },
      "execution_count": null,
      "outputs": []
    },
    {
      "cell_type": "markdown",
      "source": [
        "### Saves the audio as output_audio.wav"
      ],
      "metadata": {
        "id": "m4Gy_4zGzrgE"
      }
    },
    {
      "cell_type": "code",
      "source": [
        "if __name__ == \"__main__\":\n",
        "    # Replace these paths with your actual file paths\n",
        "    input_video_path = \"input_video.mp4\"\n",
        "    output_audio_path = \"output_audio.wav\"\n",
        "\n",
        "    # Convert the video to audio and save it\n",
        "    convert_video_to_audio(input_video_path, output_audio_path)\n",
        "\n",
        "    print(\"Video converted to audio and saved as output_audio.wav\")"
      ],
      "metadata": {
        "id": "2Wa6ojRFz4Du"
      },
      "execution_count": null,
      "outputs": []
    },
    {
      "cell_type": "markdown",
      "source": [
        "#### Saving it might take a while..."
      ],
      "metadata": {
        "id": "6NgwL3We0R_n"
      }
    },
    {
      "cell_type": "markdown",
      "source": [
        "### Converts Audio to Text"
      ],
      "metadata": {
        "id": "PAHSpn8K0bT5"
      }
    },
    {
      "cell_type": "code",
      "source": [
        "# importing libraries\n",
        "import speech_recognition as sr\n",
        "import os\n",
        "from pydub import AudioSegment\n",
        "from pydub.silence import split_on_silence\n",
        "\n",
        "# create a speech recognition object\n",
        "r = sr.Recognizer()\n",
        "\n",
        "# a function to recognize speech in the audio file\n",
        "# so that we don't repeat ourselves in in other functions\n",
        "def transcribe_audio(path):\n",
        "    # use the audio file as the audio source\n",
        "    with sr.AudioFile(path) as source:\n",
        "        audio_listened = r.record(source)\n",
        "        # try converting it to text\n",
        "        text = r.recognize_google(audio_listened)\n",
        "    return text\n",
        "\n",
        "# a function that splits the audio file into chunks on silence\n",
        "# and applies speech recognition\n",
        "def get_large_audio_transcription_on_silence(path):\n",
        "    \"\"\"Splitting the large audio file into chunks\n",
        "    and apply speech recognition on each of these chunks\"\"\"\n",
        "    # open the audio file using pydub\n",
        "    sound = AudioSegment.from_file(path)\n",
        "    # split audio sound where silence is 500 miliseconds or more and get chunks\n",
        "    chunks = split_on_silence(sound,\n",
        "        # experiment with this value for your target audio file\n",
        "        min_silence_len = 500,\n",
        "        # adjust this per requirement\n",
        "        silence_thresh = sound.dBFS-14,\n",
        "        # keep the silence for 1 second, adjustable as well\n",
        "        keep_silence=500,\n",
        "    )\n",
        "    folder_name = \"audio-chunks\"\n",
        "    # create a directory to store the audio chunks\n",
        "    if not os.path.isdir(folder_name):\n",
        "        os.mkdir(folder_name)\n",
        "    whole_text = \"\"\n",
        "    # process each chunk\n",
        "    for i, audio_chunk in enumerate(chunks, start=1):\n",
        "        # export audio chunk and save it in\n",
        "        # the `folder_name` directory.\n",
        "        chunk_filename = os.path.join(folder_name, f\"chunk{i}.wav\")\n",
        "        audio_chunk.export(chunk_filename, format=\"wav\")\n",
        "        # recognize the chunk\n",
        "        try:\n",
        "            text = transcribe_audio(chunk_filename)\n",
        "        except sr.UnknownValueError as e:\n",
        "            print(\"Error:\", str(e))\n",
        "        else:\n",
        "            text = f\"{text.capitalize()}. \"\n",
        "            print (text)\n",
        "            whole_text += text\n",
        "    # return the text for all chunks detected\n",
        "    return whole_text\n"
      ],
      "metadata": {
        "id": "reHrHwBzz8z8"
      },
      "execution_count": null,
      "outputs": []
    },
    {
      "cell_type": "code",
      "source": [
        "path = \"output_audio.wav\"\n",
        "final_text= get_large_audio_transcription_on_silence(path)\n",
        "print(final_text)"
      ],
      "metadata": {
        "id": "QKuVkl8f0lU9"
      },
      "execution_count": null,
      "outputs": []
    },
    {
      "cell_type": "markdown",
      "source": [
        "#### Check out your final text!"
      ],
      "metadata": {
        "id": "PgmtkhBC0xOo"
      }
    },
    {
      "cell_type": "code",
      "source": [
        "final_text"
      ],
      "metadata": {
        "id": "2KOsm_Z90n0u"
      },
      "execution_count": null,
      "outputs": []
    },
    {
      "cell_type": "markdown",
      "source": [
        "## Creates Presentation"
      ],
      "metadata": {
        "id": "eZzuTwM31Dlv"
      }
    },
    {
      "cell_type": "code",
      "source": [
        "# Import libraries\n",
        "from pptx import Presentation\n",
        "from pptx.util import Inches\n",
        "import cv2\n",
        "from google.colab.patches import cv2_imshow\n",
        "\n",
        "# Function to create a PowerPoint presentation\n",
        "def create_presentation(slides_data):\n",
        "    # Create a new PowerPoint presentation object\n",
        "    prs = Presentation()\n",
        "\n",
        "    # Iterate through each slide's content and create a slide\n",
        "    for slide_content in slides_data:\n",
        "        title, image_path = slide_content\n",
        "\n",
        "        # Add a blank slide using the blank slide layout (index 5)\n",
        "        slide = prs.slides.add_slide(prs.slide_layouts[5])\n",
        "\n",
        "        # Define position and size for the text box\n",
        "        left = Inches(1)\n",
        "        top = Inches(1)\n",
        "        width = Inches(3)\n",
        "        height = Inches(2)\n",
        "\n",
        "        # Add a text box to the slide and set its content\n",
        "        text_box = slide.shapes.add_textbox(left, top, width, height)\n",
        "        text_frame = text_box.text_frame\n",
        "        p = text_frame.add_paragraph()\n",
        "        p.text = title\n",
        "\n",
        "        # If an image is provided, add it to the slide\n",
        "        if image_path:\n",
        "            left = Inches(2)\n",
        "            top = Inches(2)\n",
        "            pic = slide.shapes.add_picture(image_path, left, top, width, height)\n",
        "\n",
        "    # Save the presentation to a file\n",
        "    prs.save(\"presentation.pptx\")\n",
        "    print(\"Presentation saved as presentation.pptx\")\n",
        "\n"
      ],
      "metadata": {
        "id": "y5thdCkR05Z6"
      },
      "execution_count": null,
      "outputs": []
    },
    {
      "cell_type": "markdown",
      "source": [
        "## Important Instructions!!\n",
        "1. Enter how many pages you want.\n",
        "2. Enter Images according to the number of pages\n",
        "3. More instructions throughout the code, please follow along 😸"
      ],
      "metadata": {
        "id": "aEjeohmr1VWr"
      }
    },
    {
      "cell_type": "code",
      "source": [
        "image_paths = ['/content/image1.jpeg', '/content/image2.jpeg', '/content/image3.jpeg'] # enter image paths here\n",
        "\n",
        "# Split the text into chunks for each slide\n",
        "words = final_text.split()\n",
        "\n",
        "slide_pages = # Enter pages here\n",
        "\n",
        "n = len(words) // slide_pages\n",
        "chunks = [words[i:i + n] for i in range(0, len(words), n)]\n",
        "total_pages = len(chunks)\n",
        "\n",
        "slides_data = []  # Initialize an empty list to store slide data\n",
        "\n",
        "print('slide pages- ',slide_pages)\n",
        "print('total pages- ',total_pages)\n",
        "print(\"if total pages are more than slide pages then, add one more image to image_paths and run this again, don't worry about the slide pages this time\")\n",
        "print(\"if not, go ahead :)\")"
      ],
      "metadata": {
        "id": "Nv9t1yd_2bvj"
      },
      "execution_count": null,
      "outputs": []
    },
    {
      "cell_type": "markdown",
      "source": [
        "### Saves your presentation (finally!)"
      ],
      "metadata": {
        "id": "w56eDepZ4iAj"
      }
    },
    {
      "cell_type": "code",
      "source": [
        "if __name__ == \"__main__\":\n",
        "\n",
        "    # Iterate through text chunks and corresponding image paths\n",
        "    for chunk, image_path in zip(chunks, image_paths):\n",
        "        img = cv2.imread(image_path)  # Load image using OpenCV\n",
        "        cv2_imshow(img)  # Display the image using Google Colab's cv2_imshow\n",
        "        cv2.waitKey(0)\n",
        "        cv2.destroyAllWindows()\n",
        "\n",
        "        # Store chunk of text and image path in slides_data list\n",
        "        slides_data.append((' '.join(chunk), image_path))\n",
        "\n",
        "    # Create the presentation using the provided data\n",
        "    create_presentation(slides_data)\n"
      ],
      "metadata": {
        "id": "f2RGOyj81AjT"
      },
      "execution_count": null,
      "outputs": []
    },
    {
      "cell_type": "markdown",
      "source": [
        "#### Saving the ppt might take a while..."
      ],
      "metadata": {
        "id": "L1kH3-SGDKRJ"
      }
    }
  ]
}